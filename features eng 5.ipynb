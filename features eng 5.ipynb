{
 "cells": [
  {
   "cell_type": "markdown",
   "id": "957fd6d8-77d9-4441-8303-b23a357eaf0c",
   "metadata": {},
   "source": [
    "# Q1. Pearson correlation coefficient is a measure of the linear relationship between two variables. Suppose you have collected data on the amount of time students spend studying for an exam and their final exam scores. Calculate the Pearson correlation coefficient between these two variables and interpret the result."
   ]
  },
  {
   "cell_type": "code",
   "execution_count": 17,
   "id": "04956171-9bec-49de-9684-d4d1734e502f",
   "metadata": {},
   "outputs": [
    {
     "name": "stdout",
     "output_type": "stream",
     "text": [
      "Pearson Correlation Coefficient: 0.9786076167233388\n",
      "p-value: 8.929396373637362e-07\n"
     ]
    }
   ],
   "source": [
    "import numpy as np\n",
    "from scipy.stats import pearsonr\n",
    "\n",
    "time_spent_studying = np.array([2, 4, 3, 5, 6, 2.5, 4.5, 3.5, 6.5, 1.5])\n",
    "final_exam_scores = np.array([70, 85, 78, 92, 95, 72, 88, 80, 98, 60])\n",
    "\n",
    "correlation, p_value = pearsonr(time_spent_studying, final_exam_scores)\n",
    "\n",
    "print(\"Pearson Correlation Coefficient:\", correlation)\n",
    "print(\"p-value:\", p_value)\n"
   ]
  },
  {
   "cell_type": "markdown",
   "id": "ddc4b97c-5cb2-460b-a1b4-8083f79d63b5",
   "metadata": {},
   "source": [
    "# Q2. Spearman's rank correlation is a measure of the monotonic relationship between two variables. Suppose you have collected data on the amount of sleep individuals get each night and their overall job satisfaction level on a scale of 1 to 10. Calculate the Spearman's rank correlation between these two variables and interpret the result."
   ]
  },
  {
   "cell_type": "code",
   "execution_count": 18,
   "id": "518b8aa8-8413-40da-a6d3-83e8f55a8cfb",
   "metadata": {},
   "outputs": [],
   "source": [
    "import numpy as np\n",
    "from scipy.stats import spearmanr"
   ]
  },
  {
   "cell_type": "code",
   "execution_count": 19,
   "id": "b18af376-b9ff-4ac7-b861-f3e1a5fb9c62",
   "metadata": {},
   "outputs": [],
   "source": [
    "sleep_night = np.array([6,7,5,8,4,8,9])\n",
    "job_satisfaction = np.array([1,5,7,8,6,8,2])"
   ]
  },
  {
   "cell_type": "code",
   "execution_count": 20,
   "id": "d17741de-2c37-4b3e-9018-eba22e8e87a6",
   "metadata": {},
   "outputs": [
    {
     "name": "stdout",
     "output_type": "stream",
     "text": [
      "correlation: 0.09090909090909091\n",
      "p_value: 0.8463048784202414\n"
     ]
    }
   ],
   "source": [
    "correlation , p_value = spearmanr(sleep_night , job_satisfaction )\n",
    "\n",
    "print(\"correlation:\", correlation)\n",
    "print(\"p_value:\" ,p_value )"
   ]
  },
  {
   "cell_type": "markdown",
   "id": "f2660583-f41f-43a3-8ced-9be9c970a138",
   "metadata": {},
   "source": [
    "# Q3. Suppose you are conducting a study to examine the relationship between the number of hours of exercise per week and body mass index (BMI) in a sample of adults. You collected data on both variables for 50 participants. Calculate the Pearson correlation coefficient and the Spearman's rank correlation between these two variables and compare the results."
   ]
  },
  {
   "cell_type": "code",
   "execution_count": 29,
   "id": "0d62bb6c-4c7d-4cbb-a9e3-b43a5c3d93c2",
   "metadata": {},
   "outputs": [
    {
     "name": "stdout",
     "output_type": "stream",
     "text": [
      "Pearson Correlation Coefficient: 0.735741804426965\n",
      "Spearman's Rank Correlation Coefficient: 0.754348943031693\n"
     ]
    }
   ],
   "source": [
    "\n",
    "import numpy as np\n",
    "from scipy.stats import pearsonr, spearmanr\n",
    "\n",
    "# Create a dataset\n",
    "exercise_hours = np.array([3, 5, 2, 4, 6, 4, 3, 2, 1, 5, 6, 4, 3, 2, 5, 1, 2, 3, 4, 6, 5, 3, 4, 2, 6, 5,\n",
    "                          2, 3, 4, 5, 1, 2, 3, 4, 5, 6, 3, 4, 2, 5, 1, 6, 3, 2, 4, 5, 1, 6, 4, 3])\n",
    "\n",
    "bmi = np.array([25.4, 28.9, 22.1, 24.6, 29.5, 26.3, 24.9, 22.5, 20.0, 28.8, 29.7, 26.0, 24.3, 21.7, 27.6,\n",
    "                19.5, 21.1, 24.9, 26.8, 29.3, 28.1, 25.2, 27.3, 22.4, 30.2, 26.7, 23.2, 25.9, 26.8, 28.3,\n",
    "                19.9, 20.8, 22.6, 24.4, 27.9, 29.1, 25.6, 27.2, 23.5, 28.6, 18.7, 29.8, 23.0, 26.1, 25.3,\n",
    "                18.1, 30.0, 27.5, 24.8, 21.9])\n",
    "\n",
    "\n",
    "\n",
    "\n",
    "\n",
    "# Calculate Pearson correlation coefficient and Spearman's rank correlation\n",
    "pearson_corr, _ = pearsonr(exercise_hours, bmi)\n",
    "spearman_corr, _ = spearmanr(exercise_hours, bmi)\n",
    "\n",
    "print(\"Pearson Correlation Coefficient:\", pearson_corr)\n",
    "print(\"Spearman's Rank Correlation Coefficient:\", spearman_corr)\n",
    "\n",
    "\n"
   ]
  },
  {
   "cell_type": "markdown",
   "id": "f5d4a959-b950-442f-8868-f0fcec67b6e0",
   "metadata": {},
   "source": [
    "In this code, we first create datasets for exercise hours and BMI. Then, we use `pearsonr` and `spearmanr` functions from the `scipy.stats` module to calculate the Pearson and Spearman's rank correlations, respectively.\n",
    "\n",
    "Comparing the results:\n",
    "- The Pearson correlation coefficient assesses linear relationships. If it's close to 1, it indicates a strong positive linear relationship; if close to -1, a strong negative linear relationship; and if close to 0, little to no linear relationship.\n",
    "- The Spearman's rank correlation coefficient assesses monotonic relationships, which may not be strictly linear. It has similar interpretation as the Pearson coefficient but is more robust to outliers and non-linear associations.\n",
    "\n"
   ]
  },
  {
   "cell_type": "markdown",
   "id": "1a4c108f-cfb5-4a4a-ac77-c1a34fd4c818",
   "metadata": {},
   "source": [
    "# Q4. A researcher is interested in examining the relationship between the number of hours individuals spend watching television per day and their level of physical activity. The researcher collected data on both variables from a sample of 50 participants. Calculate the Pearson correlation coefficient between these two variables."
   ]
  },
  {
   "cell_type": "code",
   "execution_count": 39,
   "id": "1146c857-3285-4d53-82d1-0864cbdb2be4",
   "metadata": {},
   "outputs": [],
   "source": [
    "no_of_hours = np.array([1,2,5,8,6,7,8,5,5,6,8,1,5,2,8,4,6,2,5,7,9,5,8,4,2,1,5,4,2,8,5,3,5,5,4,2,5,2,5,1,3,4,6,2,5,5,6,5,6,5])\n",
    "physical_activity = np.array([1,2,3,5,6,1,2,5,4,6,1,3,2,5,2,1,3,2,1,3,2,1,4,2,1,3,1,2,3,1,2,3,4,1,5,2,6,4,2,1,3,5,1,6,1,5,2])"
   ]
  },
  {
   "cell_type": "code",
   "execution_count": 45,
   "id": "bfe265d6-349e-4011-9c94-088b3eff78f6",
   "metadata": {},
   "outputs": [
    {
     "name": "stdout",
     "output_type": "stream",
     "text": [
      "Pearson correlation coefficient: PearsonRResult(statistic=0.1574223777231584, pvalue=0.2749145626047746)\n"
     ]
    }
   ],
   "source": [
    "Pearson_correlation_coefficient = pearsonr(no_of_hours,physical_activity)\n",
    "print(\"Pearson correlation coefficient:\" ,Pearson_correlation_coefficient)"
   ]
  },
  {
   "cell_type": "markdown",
   "id": "cda48379-9bcd-4860-85b3-68952fe31880",
   "metadata": {},
   "source": [
    "# Q5. A survey was conducted to examine the relationship between age and preference for a particular brand of soft drink. The survey results are shown below:"
   ]
  },
  {
   "cell_type": "code",
   "execution_count": 48,
   "id": "f8b8871f-b133-4cdd-8d2d-dca2ee900862",
   "metadata": {},
   "outputs": [
    {
     "ename": "UFuncTypeError",
     "evalue": "ufunc 'add' did not contain a loop with signature matching types (dtype('float64'), dtype('<U4')) -> None",
     "output_type": "error",
     "traceback": [
      "\u001b[0;31m---------------------------------------------------------------------------\u001b[0m",
      "\u001b[0;31mUFuncTypeError\u001b[0m                            Traceback (most recent call last)",
      "Cell \u001b[0;32mIn[48], line 3\u001b[0m\n\u001b[1;32m      1\u001b[0m age \u001b[38;5;241m=\u001b[39m np\u001b[38;5;241m.\u001b[39marray([\u001b[38;5;241m25\u001b[39m,\u001b[38;5;241m42\u001b[39m,\u001b[38;5;241m37\u001b[39m,\u001b[38;5;241m19\u001b[39m,\u001b[38;5;241m31\u001b[39m,\u001b[38;5;241m28\u001b[39m])\n\u001b[1;32m      2\u001b[0m soft \u001b[38;5;241m=\u001b[39m np\u001b[38;5;241m.\u001b[39marray([\u001b[38;5;124m\"\u001b[39m\u001b[38;5;124mcoke\u001b[39m\u001b[38;5;124m\"\u001b[39m,\u001b[38;5;124m\"\u001b[39m\u001b[38;5;124mpepsi\u001b[39m\u001b[38;5;124m\"\u001b[39m,\u001b[38;5;124m\"\u001b[39m\u001b[38;5;124mmountain dew\u001b[39m\u001b[38;5;124m\"\u001b[39m,\u001b[38;5;124m\"\u001b[39m\u001b[38;5;124mcoke\u001b[39m\u001b[38;5;124m\"\u001b[39m,\u001b[38;5;124m\"\u001b[39m\u001b[38;5;124mpepsi\u001b[39m\u001b[38;5;124m\"\u001b[39m,\u001b[38;5;124m\"\u001b[39m\u001b[38;5;124mcoke\u001b[39m\u001b[38;5;124m\"\u001b[39m])\n\u001b[0;32m----> 3\u001b[0m coeffcient \u001b[38;5;241m=\u001b[39m \u001b[43mpearsonr\u001b[49m\u001b[43m(\u001b[49m\u001b[43mage\u001b[49m\u001b[43m \u001b[49m\u001b[43m,\u001b[49m\u001b[43m \u001b[49m\u001b[43msoft\u001b[49m\u001b[43m)\u001b[49m\n\u001b[1;32m      4\u001b[0m \u001b[38;5;28mprint\u001b[39m(\u001b[38;5;124m\"\u001b[39m\u001b[38;5;124mcoeffcient:\u001b[39m\u001b[38;5;124m\"\u001b[39m,coeffcient)\n",
      "File \u001b[0;32m/opt/conda/lib/python3.10/site-packages/scipy/stats/_stats_py.py:4435\u001b[0m, in \u001b[0;36mpearsonr\u001b[0;34m(x, y, alternative)\u001b[0m\n\u001b[1;32m   4430\u001b[0m     \u001b[38;5;28;01mreturn\u001b[39;00m result\n\u001b[1;32m   4432\u001b[0m \u001b[38;5;66;03m# dtype is the data type for the calculations.  This expression ensures\u001b[39;00m\n\u001b[1;32m   4433\u001b[0m \u001b[38;5;66;03m# that the data type is at least 64 bit floating point.  It might have\u001b[39;00m\n\u001b[1;32m   4434\u001b[0m \u001b[38;5;66;03m# more precision if the input is, for example, np.longdouble.\u001b[39;00m\n\u001b[0;32m-> 4435\u001b[0m dtype \u001b[38;5;241m=\u001b[39m \u001b[38;5;28mtype\u001b[39m(\u001b[38;5;241;43m1.0\u001b[39;49m\u001b[43m \u001b[49m\u001b[38;5;241;43m+\u001b[39;49m\u001b[43m \u001b[49m\u001b[43mx\u001b[49m\u001b[43m[\u001b[49m\u001b[38;5;241;43m0\u001b[39;49m\u001b[43m]\u001b[49m\u001b[43m \u001b[49m\u001b[38;5;241;43m+\u001b[39;49m\u001b[43m \u001b[49m\u001b[43my\u001b[49m\u001b[43m[\u001b[49m\u001b[38;5;241;43m0\u001b[39;49m\u001b[43m]\u001b[49m)\n\u001b[1;32m   4437\u001b[0m \u001b[38;5;28;01mif\u001b[39;00m n \u001b[38;5;241m==\u001b[39m \u001b[38;5;241m2\u001b[39m:\n\u001b[1;32m   4438\u001b[0m     r \u001b[38;5;241m=\u001b[39m dtype(np\u001b[38;5;241m.\u001b[39msign(x[\u001b[38;5;241m1\u001b[39m] \u001b[38;5;241m-\u001b[39m x[\u001b[38;5;241m0\u001b[39m])\u001b[38;5;241m*\u001b[39mnp\u001b[38;5;241m.\u001b[39msign(y[\u001b[38;5;241m1\u001b[39m] \u001b[38;5;241m-\u001b[39m y[\u001b[38;5;241m0\u001b[39m]))\n",
      "\u001b[0;31mUFuncTypeError\u001b[0m: ufunc 'add' did not contain a loop with signature matching types (dtype('float64'), dtype('<U4')) -> None"
     ]
    }
   ],
   "source": [
    "age = np.array([25,42,37,19,31,28])\n",
    "soft = np.array([\"coke\",\"pepsi\",\"mountain dew\",\"coke\",\"pepsi\",\"coke\"])\n",
    "coeffcient = pea"
   ]
  },
  {
   "cell_type": "markdown",
   "id": "e921c715-2ae0-43bb-babf-f478d4b83014",
   "metadata": {},
   "source": [
    "# Q6. A company is interested in examining the relationship between the number of sales calls made per day and the number of sales made per week. The company collected data on both variables from a sample of 30 sales representatives. Calculate the Pearson correlation coefficient between these two variables."
   ]
  },
  {
   "cell_type": "code",
   "execution_count": 49,
   "id": "245d7a87-e502-4193-b22b-3477dabd08a6",
   "metadata": {},
   "outputs": [
    {
     "name": "stdout",
     "output_type": "stream",
     "text": [
      "Pearson Correlation Coefficient: 0.9884512140824806\n"
     ]
    }
   ],
   "source": [
    "import numpy as np\n",
    "from scipy.stats import pearsonr\n",
    "\n",
    "# Create a dataset\n",
    "sales_calls_per_day = np.array([15, 20, 12, 18, 10, 14, 16, 13, 19, 17,\n",
    "                                21, 23, 11, 13, 16, 14, 15, 12, 18, 20,\n",
    "                                22, 10, 17, 16, 19, 21, 14, 12, 15, 18])\n",
    "\n",
    "sales_per_week = np.array([5, 8, 3, 6, 2, 4, 5, 4, 7, 6,\n",
    "                           9, 10, 2, 4, 6, 5, 5, 3, 7, 8,\n",
    "                           9, 2, 6, 5, 7, 9, 4, 3, 5, 7])\n",
    "\n",
    "# Calculate Pearson correlation coefficient\n",
    "pearson_corr, _ = pearsonr(sales_calls_per_day, sales_per_week)\n",
    "\n",
    "print(\"Pearson Correlation Coefficient:\", pearson_corr)\n"
   ]
  },
  {
   "cell_type": "code",
   "execution_count": null,
   "id": "292d3c4e-7ade-4f4c-85f4-7a121ada1dc8",
   "metadata": {},
   "outputs": [],
   "source": []
  }
 ],
 "metadata": {
  "kernelspec": {
   "display_name": "Python 3 (ipykernel)",
   "language": "python",
   "name": "python3"
  },
  "language_info": {
   "codemirror_mode": {
    "name": "ipython",
    "version": 3
   },
   "file_extension": ".py",
   "mimetype": "text/x-python",
   "name": "python",
   "nbconvert_exporter": "python",
   "pygments_lexer": "ipython3",
   "version": "3.10.8"
  }
 },
 "nbformat": 4,
 "nbformat_minor": 5
}
